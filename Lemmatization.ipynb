{
 "cells": [
  {
   "cell_type": "code",
   "execution_count": 20,
   "id": "4a2ed02d",
   "metadata": {},
   "outputs": [],
   "source": [
    "import spacy"
   ]
  },
  {
   "cell_type": "code",
   "execution_count": 21,
   "id": "70da2727",
   "metadata": {},
   "outputs": [],
   "source": [
    "# paragraph\n",
    "paragraph = \"\"\"Cats are very social animals and enjoy the company of other cats.\n",
    "They will often groom each other and cuddle together when they sleep.\"\"\""
   ]
  },
  {
   "cell_type": "code",
   "execution_count": 22,
   "id": "f5033722",
   "metadata": {},
   "outputs": [],
   "source": [
    "# Load spaCy English model\n",
    "nlp = spacy.load(\"en_core_web_sm\")"
   ]
  },
  {
   "cell_type": "code",
   "execution_count": 23,
   "id": "c136d598",
   "metadata": {},
   "outputs": [],
   "source": [
    "# Process the paragraph\n",
    "docu = nlp(paragraph)"
   ]
  },
  {
   "cell_type": "code",
   "execution_count": 24,
   "id": "ac28b521",
   "metadata": {},
   "outputs": [],
   "source": [
    "# Perform lemmatization\n",
    "lemmatized_words = [token.lemma_ for token in docu]"
   ]
  },
  {
   "cell_type": "code",
   "execution_count": 25,
   "id": "dfc97ff1",
   "metadata": {},
   "outputs": [
    {
     "name": "stdout",
     "output_type": "stream",
     "text": [
      "Lemmatized Words: ['cat', 'be', 'very', 'social', 'animal', 'and', 'enjoy', 'the', 'company', 'of', 'other', 'cat', '.', '\\n', 'they', 'will', 'often', 'groom', 'each', 'other', 'and', 'cuddle', 'together', 'when', 'they', 'sleep', '.']\n"
     ]
    }
   ],
   "source": [
    "print(\"Lemmatized Words:\", lemmatized_words)"
   ]
  },
  {
   "cell_type": "code",
   "execution_count": null,
   "id": "225eef2d",
   "metadata": {},
   "outputs": [],
   "source": []
  }
 ],
 "metadata": {
  "kernelspec": {
   "display_name": "Python 3 (ipykernel)",
   "language": "python",
   "name": "python3"
  },
  "language_info": {
   "codemirror_mode": {
    "name": "ipython",
    "version": 3
   },
   "file_extension": ".py",
   "mimetype": "text/x-python",
   "name": "python",
   "nbconvert_exporter": "python",
   "pygments_lexer": "ipython3",
   "version": "3.11.5"
  }
 },
 "nbformat": 4,
 "nbformat_minor": 5
}
