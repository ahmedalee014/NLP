{
 "cells": [
  {
   "cell_type": "code",
   "execution_count": 32,
   "id": "819c22d7",
   "metadata": {},
   "outputs": [],
   "source": [
    "import nltk\n",
    "from nltk.stem import PorterStemmer\n",
    "from nltk.corpus import wordnet\n",
    "from nltk import word_tokenize, pos_tag\n",
    "from nltk.stem import WordNetLemmatizer"
   ]
  },
  {
   "cell_type": "code",
   "execution_count": 33,
   "id": "51a86f7f",
   "metadata": {},
   "outputs": [
    {
     "name": "stderr",
     "output_type": "stream",
     "text": [
      "[nltk_data] Downloading package punkt to\n",
      "[nltk_data]     C:\\Users\\ahmed\\AppData\\Roaming\\nltk_data...\n",
      "[nltk_data]   Package punkt is already up-to-date!\n"
     ]
    },
    {
     "data": {
      "text/plain": [
       "True"
      ]
     },
     "execution_count": 33,
     "metadata": {},
     "output_type": "execute_result"
    }
   ],
   "source": [
    "nltk.download('punkt')"
   ]
  },
  {
   "cell_type": "code",
   "execution_count": 34,
   "id": "ad5482a7",
   "metadata": {},
   "outputs": [
    {
     "name": "stderr",
     "output_type": "stream",
     "text": [
      "[nltk_data] Downloading package wordnet to\n",
      "[nltk_data]     C:\\Users\\ahmed\\AppData\\Roaming\\nltk_data...\n",
      "[nltk_data]   Package wordnet is already up-to-date!\n"
     ]
    },
    {
     "data": {
      "text/plain": [
       "True"
      ]
     },
     "execution_count": 34,
     "metadata": {},
     "output_type": "execute_result"
    }
   ],
   "source": [
    "nltk.download('wordnet')"
   ]
  },
  {
   "cell_type": "code",
   "execution_count": 35,
   "id": "75c357ed",
   "metadata": {},
   "outputs": [],
   "source": [
    "# Sample paragraph\n",
    "paragraph =\"\"\"Cats are very social animals and enjoy the company of other cats.\n",
    "They will often groom each other and cuddle together when they sleep.\"\"\""
   ]
  },
  {
   "cell_type": "code",
   "execution_count": 36,
   "id": "a1327a5c",
   "metadata": {},
   "outputs": [],
   "source": [
    "# Tokenize the paragraph\n",
    "words = word_tokenize(paragraph)\n"
   ]
  },
  {
   "cell_type": "code",
   "execution_count": 37,
   "id": "6b36a339",
   "metadata": {},
   "outputs": [],
   "source": [
    "# Initialize stemmer and lemmatizer\n",
    "stemmer = PorterStemmer()\n",
    "lemmatizer = WordNetLemmatizer()\n"
   ]
  },
  {
   "cell_type": "code",
   "execution_count": 38,
   "id": "36b118c6",
   "metadata": {},
   "outputs": [],
   "source": [
    "# Perform stemming\n",
    "stemmed_words = [stemmer.stem(word) for word in words]\n"
   ]
  },
  {
   "cell_type": "code",
   "execution_count": 39,
   "id": "8df51463",
   "metadata": {},
   "outputs": [],
   "source": [
    "# Perform lemmatization\n",
    "lemmatized_words = [lemmatizer.lemmatize(word, pos=wordnet.VERB) for word in words]\n"
   ]
  },
  {
   "cell_type": "code",
   "execution_count": 40,
   "id": "21d3da23",
   "metadata": {},
   "outputs": [
    {
     "name": "stdout",
     "output_type": "stream",
     "text": [
      "Stemmed Words: ['cat', 'are', 'veri', 'social', 'anim', 'and', 'enjoy', 'the', 'compani', 'of', 'other', 'cat', '.', 'they', 'will', 'often', 'groom', 'each', 'other', 'and', 'cuddl', 'togeth', 'when', 'they', 'sleep', '.']\n",
      "Lemmatized Words: ['Cats', 'be', 'very', 'social', 'animals', 'and', 'enjoy', 'the', 'company', 'of', 'other', 'cat', '.', 'They', 'will', 'often', 'groom', 'each', 'other', 'and', 'cuddle', 'together', 'when', 'they', 'sleep', '.']\n"
     ]
    }
   ],
   "source": [
    "print(\"Stemmed Words:\", stemmed_words)\n",
    "print(\"Lemmatized Words:\", lemmatized_words)"
   ]
  },
  {
   "cell_type": "code",
   "execution_count": null,
   "id": "d0084ea4",
   "metadata": {},
   "outputs": [],
   "source": []
  }
 ],
 "metadata": {
  "kernelspec": {
   "display_name": "Python 3 (ipykernel)",
   "language": "python",
   "name": "python3"
  },
  "language_info": {
   "codemirror_mode": {
    "name": "ipython",
    "version": 3
   },
   "file_extension": ".py",
   "mimetype": "text/x-python",
   "name": "python",
   "nbconvert_exporter": "python",
   "pygments_lexer": "ipython3",
   "version": "3.11.5"
  }
 },
 "nbformat": 4,
 "nbformat_minor": 5
}
